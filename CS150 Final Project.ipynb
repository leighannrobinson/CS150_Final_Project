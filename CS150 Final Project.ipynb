{
 "cells": [
  {
   "cell_type": "markdown",
   "id": "9f0d3349",
   "metadata": {},
   "source": [
    "## CS150 Final Project\n",
    "### Leighann Robinson"
   ]
  },
  {
   "cell_type": "code",
   "execution_count": null,
   "id": "27ed2b6b",
   "metadata": {},
   "outputs": [],
   "source": [
    "import random\n",
    "\n",
    "input(\"Welcome to 'Computer Guesses your number!' Please press Enter to start\")\n",
    "print()\n",
    "input(\"Think of a number. Once you have your number in mind, press Enter to begin\")\n",
    "print()\n",
    "    \n",
    "def guessed_number(n):\n",
    "    minimum=1\n",
    "    maximum=n\n",
    "    response=''\n",
    "    time=0\n",
    "    \n",
    "    while response!= 'c':\n",
    "        if minimum != maximum:\n",
    "            computer_guess=random.randint(minimum, maximum)\n",
    "        else:\n",
    "            computer_guess=minimum\n",
    "        response=input(f'Is the number {computer_guess} too low (L), too high (H), or the correct number (C)? ').lower()\n",
    "        if response=='l':\n",
    "            minimum = computer_guess + 1\n",
    "        elif response=='h':\n",
    "            maximum = computer_guess - 1\n",
    "        time=time+1\n",
    "    print()  \n",
    "    print(f'Congratulations! The computer has guessed your number, {computer_guess}, correctly in {time} tries!')\n",
    "    print()\n",
    "    \n",
    "    while True:     \n",
    "        again = input(\"Do you want to play again? \")\n",
    "        if 'yes' in again:\n",
    "            guessed_number(100)\n",
    "        else:\n",
    "            print(\"Thanks for playing! Goodbye \")\n",
    "            break"
   ]
  },
  {
   "cell_type": "code",
   "execution_count": null,
   "id": "9f73e5bc",
   "metadata": {},
   "outputs": [],
   "source": [
    "guessed_number(100)"
   ]
  },
  {
   "cell_type": "code",
   "execution_count": null,
   "id": "9d83738e",
   "metadata": {},
   "outputs": [],
   "source": []
  },
  {
   "cell_type": "code",
   "execution_count": null,
   "id": "9c30cefd",
   "metadata": {},
   "outputs": [],
   "source": []
  }
 ],
 "metadata": {
  "kernelspec": {
   "display_name": "Python 3 (ipykernel)",
   "language": "python",
   "name": "python3"
  },
  "language_info": {
   "codemirror_mode": {
    "name": "ipython",
    "version": 3
   },
   "file_extension": ".py",
   "mimetype": "text/x-python",
   "name": "python",
   "nbconvert_exporter": "python",
   "pygments_lexer": "ipython3",
   "version": "3.9.12"
  }
 },
 "nbformat": 4,
 "nbformat_minor": 5
}
